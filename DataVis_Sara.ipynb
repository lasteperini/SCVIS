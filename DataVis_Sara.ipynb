{
 "cells": [
  {
   "cell_type": "markdown",
   "metadata": {},
   "source": [
    "<font size=5>Ci stiamo occupando del dataset <i>\"Breast Cancer Winsconsin\"</i> preso da Sklearn. \n",
    "    <br>L'obiettivo è quello di visualizzare i dati contenuti in questo dataset per mettere in risalto eventuali correlazioni tra alcune variabili e l'insorgenza di tumore benigno o maligno.</font>"
   ]
  },
  {
   "cell_type": "code",
   "execution_count": 1,
   "metadata": {},
   "outputs": [
    {
     "ename": "ModuleNotFoundError",
     "evalue": "No module named 'plotly'",
     "output_type": "error",
     "traceback": [
      "\u001b[1;31m---------------------------------------------------------------------------\u001b[0m",
      "\u001b[1;31mModuleNotFoundError\u001b[0m                       Traceback (most recent call last)",
      "\u001b[1;32m<ipython-input-1-8caa5f2a239a>\u001b[0m in \u001b[0;36m<module>\u001b[1;34m\u001b[0m\n\u001b[0;32m      2\u001b[0m \u001b[1;32mfrom\u001b[0m \u001b[0msklearn\u001b[0m\u001b[1;33m.\u001b[0m\u001b[0mdatasets\u001b[0m \u001b[1;32mimport\u001b[0m \u001b[0mload_breast_cancer\u001b[0m\u001b[1;33m\u001b[0m\u001b[1;33m\u001b[0m\u001b[0m\n\u001b[0;32m      3\u001b[0m \u001b[1;32mimport\u001b[0m \u001b[0mpandas\u001b[0m \u001b[1;32mas\u001b[0m \u001b[0mpd\u001b[0m\u001b[1;33m\u001b[0m\u001b[1;33m\u001b[0m\u001b[0m\n\u001b[1;32m----> 4\u001b[1;33m \u001b[1;32mimport\u001b[0m \u001b[0mplotly\u001b[0m\u001b[1;33m.\u001b[0m\u001b[0mexpress\u001b[0m \u001b[1;32mas\u001b[0m \u001b[0mpx\u001b[0m\u001b[1;33m\u001b[0m\u001b[1;33m\u001b[0m\u001b[0m\n\u001b[0m\u001b[0;32m      5\u001b[0m \u001b[1;31m#questa funzione consente di rendere il bunch di dati in forma di dataframe, utilizzabile con le\u001b[0m\u001b[1;33m\u001b[0m\u001b[1;33m\u001b[0m\u001b[1;33m\u001b[0m\u001b[0m\n\u001b[0;32m      6\u001b[0m \u001b[1;31m#librerie di Pandas e Matplotlib\u001b[0m\u001b[1;33m\u001b[0m\u001b[1;33m\u001b[0m\u001b[1;33m\u001b[0m\u001b[0m\n",
      "\u001b[1;31mModuleNotFoundError\u001b[0m: No module named 'plotly'"
     ]
    }
   ],
   "source": [
    "from sklearn import datasets\n",
    "from sklearn.datasets import load_breast_cancer\n",
    "import pandas as pd\n",
    "import plotly.express as px\n",
    "#questa funzione consente di rendere il bunch di dati in forma di dataframe, utilizzabile con le \n",
    "#librerie di Pandas e Matplotlib\n",
    "dataset, target = load_breast_cancer(return_X_y=True, as_frame=True)\n",
    "type(dataset)"
   ]
  },
  {
   "cell_type": "markdown",
   "metadata": {},
   "source": [
    "<font size=5>Visualizzazione del DataFrame così com'è senza alcuna modifica</font>\n"
   ]
  },
  {
   "cell_type": "code",
   "execution_count": null,
   "metadata": {
    "scrolled": true
   },
   "outputs": [],
   "source": [
    "dataset"
   ]
  },
  {
   "cell_type": "markdown",
   "metadata": {},
   "source": [
    "<font size=5>Tutti i dati presenti nel dataset sono riguardanti cellule tumorali, la differenza è tra<font color='green'> tumore benigno</font> e <font color='red'>tumore maligno. </font>\n",
    "    <br>Decidiamo di inserire nel DataFrame un nuovo attributo booleano chiamato <b>Type</b> che identifica con 0 il tumore maligno, con 1 quello benigno. \n",
    "    <br><b>Type:</b> 1 tumore benigno, 0 tumore maligno</font>"
   ]
  },
  {
   "cell_type": "code",
   "execution_count": null,
   "metadata": {},
   "outputs": [],
   "source": [
    "t=list(target)\n",
    "dataset.insert(0,'Type', t)"
   ]
  },
  {
   "cell_type": "code",
   "execution_count": null,
   "metadata": {},
   "outputs": [],
   "source": [
    "dataset"
   ]
  },
  {
   "cell_type": "markdown",
   "metadata": {},
   "source": [
    "A questo punto possiamo fare il primo plot dei dati in un parallel plot. Importiamo matplotlib.pyplot."
   ]
  },
  {
   "cell_type": "code",
   "execution_count": null,
   "metadata": {},
   "outputs": [],
   "source": [
    "import matplotlib.pyplot as plt\n",
    "pd.plotting.parallel_coordinates(dataset, 'Type', \n",
    "                                 color=['red', 'green'],\n",
    "                                )\n",
    "plt.rc('figure', figsize=(50.0, 30.0))\n",
    "#ax.set_xticklabels (xlabels, fontsize =50) \n",
    "plt.xticks(rotation=90)\n",
    "plt.xticks(fontsize=40)\n",
    "plt.yticks(fontsize=40)\n",
    "plt.legend(fontsize=50)\n",
    "plt.show()"
   ]
  },
  {
   "cell_type": "markdown",
   "metadata": {},
   "source": [
    "<font size='6' font color='Red'>OSSERVAZIONE:</font> <font size='5'>attorno alle variabili <i><b>mean area, area error e worst area </b></i>ci sono dei picchi rilevanti e una quasi netta distinzione tra tumori benigni e maligni. </font>"
   ]
  },
  {
   "cell_type": "markdown",
   "metadata": {},
   "source": [
    "<font size='5'> Versione interattiva di prova dello stesso grafico su un numero ridotto di variabili \n",
    "</font>"
   ]
  },
  {
   "cell_type": "code",
   "execution_count": null,
   "metadata": {},
   "outputs": [],
   "source": [
    "fig = px.parallel_coordinates(dataset, color='Type', #labels={\"mean radius\": \"meanRad\"}, \n",
    "                              dimensions=['mean radius','mean area','mean smoothness','worst texture', 'worst symmetry'])\n",
    "fig.show()"
   ]
  }
 ],
 "metadata": {
  "kernelspec": {
   "display_name": "Python 3",
   "language": "python",
   "name": "python3"
  },
  "language_info": {
   "codemirror_mode": {
    "name": "ipython",
    "version": 3
   },
   "file_extension": ".py",
   "mimetype": "text/x-python",
   "name": "python",
   "nbconvert_exporter": "python",
   "pygments_lexer": "ipython3",
   "version": "3.8.5"
  }
 },
 "nbformat": 4,
 "nbformat_minor": 4
}
